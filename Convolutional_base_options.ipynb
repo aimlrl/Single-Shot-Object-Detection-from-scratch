{
  "nbformat": 4,
  "nbformat_minor": 0,
  "metadata": {
    "colab": {
      "name": "Convolutional_base_options.ipynb",
      "provenance": [],
      "collapsed_sections": []
    },
    "kernelspec": {
      "name": "python3",
      "display_name": "Python 3"
    },
    "language_info": {
      "name": "python"
    }
  },
  "cells": [
    {
      "cell_type": "code",
      "metadata": {
        "id": "1c272g_tulPt"
      },
      "source": [
        "from keras.applications import resnet\n",
        "from keras.layers import Dense,Conv2D\n",
        "from keras.layers import BatchNormalization,Activation\n",
        "from keras.layers import AveragePooling2D,Input\n",
        "from keras.layers import Add\n",
        "from keras.regularizers import l2\n",
        "from keras.models import Model"
      ],
      "execution_count": 2,
      "outputs": []
    },
    {
      "cell_type": "code",
      "metadata": {
        "id": "nraMJjzXsReQ"
      },
      "source": [
        "def convolutional_layer(num_filters=8,ksize=3,padding=\"same\",stride=1):\n",
        "\n",
        "  \"\"\"This function creates a convolutional layer for use in the residual blocks of Resnet.\n",
        "\n",
        "  Parameters:\n",
        "              num_filters (int) : Number of filters to use in Convolutional layer\n",
        "              ksize (int) : Kernel size of the filters to be used in Convolutional layer\n",
        "              padding (string) : Whether to pad or not\n",
        "\n",
        "  Returning: \n",
        "              A convolutional layer\n",
        "  \"\"\"\n",
        "\n",
        "  conv_layer = Conv2D(filters=num_filters,kernel_size=ksize,padding=padding,kernel_initializer=\"he_normal\",kernel_regularizer=l2(0.001),strides=stride)\n",
        "  \n",
        "  return conv_layer"
      ],
      "execution_count": 3,
      "outputs": []
    },
    {
      "cell_type": "code",
      "metadata": {
        "id": "lkwxdmakwW7c"
      },
      "source": [
        "def residual_layer(layer_input,num_filters=8,ksize=3,activation=\"relu\",conv_first=True,padding=\"same\",stride=1):\n",
        "\n",
        "  \"\"\"This function will create a residual layer of a residual block used in Resnet\n",
        "\n",
        "  Parameters:\n",
        "              layer_input (tensor) : Input tensor from the output of the previous layer\n",
        "              num_filters (int) : Number of filters to be used in convolutional layer inside residual layer\n",
        "              kernel_size (int, usually odd) : Number of Rows as well as columns in the Kernel of filters used in convolutional layers\n",
        "              activation (string) : Specifies which activation function layer shoudl be used after applying batch normalization\n",
        "              conv_first (bool) : Whether to use Conv2D-BN-Relu (if conv_first is True) or BN-Relu-Conv2D\n",
        "\n",
        "  Returning:\n",
        "              layer_output (tensor) : Output of the layer as a tensor\n",
        "  \"\"\"\n",
        "\n",
        "  conv_layer = convolutional_layer(num_filters,ksize,padding=padding,stride=stride)\n",
        "\n",
        "  if conv_first == True:\n",
        "\n",
        "    layer_output = conv_layer(layer_input)\n",
        "    layer_output = BatchNormalization()(layer_output)\n",
        "    layer_output = Activation(activation)(layer_output)\n",
        "\n",
        "  else:\n",
        "    layer_output = BatchNormalization()(layer_input)\n",
        "    layer_output = Activation(activation)(layer_output)\n",
        "    layer_output = conv_layer(layer_output)\n",
        "\n",
        "  return layer_output"
      ],
      "execution_count": 4,
      "outputs": []
    },
    {
      "cell_type": "code",
      "metadata": {
        "id": "SWosd9Mcxjtf"
      },
      "source": [
        "def residual_block(residual_block_input,stack_number,res_block_number,num_residual_layers=2,num_filters=8,padding=\"same\"):\n",
        "\n",
        "  \"\"\"This function creates a residual block to be used in Resnet.\n",
        "\n",
        "  Parameters:\n",
        "              residual_block_input (tensor) : Input to the residual block\n",
        "              num_residual_layers (int) : Number of residual layers in a residual block\n",
        "\n",
        "  Returning:\n",
        "              A residual block having residual layers\n",
        "  \"\"\"\n",
        "\n",
        "  if stack_number > 0 and res_block_number == 0:\n",
        "    stride = 2\n",
        "  else:\n",
        "    stride = 1\n",
        "\n",
        "  residual_layer_output = residual_layer(residual_block_input,num_filters=num_filters,stride=stride)\n",
        "  residual_layer_output = residual_layer(residual_layer_output,num_filters=num_filters,activation=None)\n",
        "\n",
        "  if stack_number > 0 and res_block_number == 0:\n",
        "    residual_block_input = residual_layer(residual_block_input,num_filters=num_filters,ksize=1,stride=stride,activation=None) \n",
        "\n",
        "  residual_layer_output = Add()([residual_block_input,residual_layer_output])\n",
        "  residual_block_output = Activation(\"relu\")(residual_layer_output)\n",
        "  \n",
        "  return residual_block_output"
      ],
      "execution_count": 5,
      "outputs": []
    },
    {
      "cell_type": "code",
      "metadata": {
        "id": "UAxW6llKxnEI"
      },
      "source": [
        "def custom_resnet_convolutional_base(input_shape,num_extra_layers=2,num_residual_blocks=3,num_stacks=4,num_filters=8):\n",
        "\n",
        "  \"\"\"This function creates a Resnet having specific number of Residual blocks.\n",
        "\n",
        "  Parameters:\n",
        "              input_shape (tuple) : Shape of the input tensor which will be feed into the Resnet\n",
        "              num_extra_layers (int) : Number of extra layers which you want to add into Resnet depending upon the number of scales at which the detection\n",
        "                                      needs to be performed\n",
        "              num_residual_blocks (int) : Number of residual blocks which need to be added into the convolutional base of Resnet\n",
        "              num_stacks (int) : Number of stacks of residual blocks\n",
        "\n",
        "  Returning: \n",
        "              A Resnet model based on functional API\n",
        "  \"\"\"\n",
        "\n",
        "  input_image = Input(shape=input_shape)\n",
        "  transformed_image = convolutional_layer(padding=\"valid\",ksize=1,stride=2)(input_image)\n",
        "  transformed_image = BatchNormalization()(transformed_image)\n",
        "  residual_block_output = Activation(\"relu\")(transformed_image)\n",
        "\n",
        "  for i in range(num_stacks):\n",
        "    for j in range(num_residual_blocks):\n",
        "      residual_block_output = residual_block(residual_block_output,num_filters=num_filters,stack_number=i,res_block_number=j)\n",
        "    num_filters = num_filters * 2\n",
        "\n",
        "  resnet_conv_base_output = AveragePooling2D(pool_size=4)(residual_block_output)\n",
        "  resnet_outputs = [resnet_conv_base_output]\n",
        "  previous_layer_output = resnet_conv_base_output\n",
        "\n",
        "  num_filters = num_filters/2\n",
        "\n",
        "  for _ in range(num_extra_layers):\n",
        "    current_layer_output = residual_layer(previous_layer_output,num_filters=num_filters,activation=\"elu\",padding=\"valid\",stride=2)\n",
        "    resnet_outputs.append(current_layer_output)\n",
        "    previous_layer_output = current_layer_output\n",
        "    num_filters = num_filters * 2\n",
        "\n",
        "  resnet = Model(inputs=input_image,outputs=resnet_outputs)\n",
        "\n",
        "  return resnet"
      ],
      "execution_count": 6,
      "outputs": []
    },
    {
      "cell_type": "code",
      "metadata": {
        "id": "Bkngl2GNxlMM"
      },
      "source": [
        "def prebuilt_resnet_convolutional_base(input_shape,include_pretrained_weights,num_extra_layers=2):\n",
        "\n",
        "  \"\"\"This function creates a convolutional base of prebuilt residual network from keras.applications.\n",
        "\n",
        "  Parameters:\n",
        "              input_shape (tuple) : Shape of the input which is to be fed into the prebuilt Resnet\n",
        "              include_pretrained_weights (bool) : If true then the convolutional base of this network will be instantiated with pretrained weights from Imagenet\n",
        "              num_extra_layers (int) : Number of extra layers which you want to add into Resnet depending upon the number of scales at which the detection\n",
        "                                       needs to be performed \n",
        "\n",
        "  Returning: \n",
        "              A prebuilt Resnet convolutional base model based on functional API.\n",
        "  \"\"\"\n",
        "\n",
        "  input_image = Input(shape=input_shape)\n",
        "\n",
        "  prebuilt_resnet_conv_base = resnet.ResNet50(include_top=False,input_shape=input_shape,input_tensor=input_image)\n",
        "\n",
        "  resnet_outputs = [prebuilt_resnet_conv_base.output]\n",
        "  previous_layer_output = prebuilt_resnet_conv_base.output\n",
        "\n",
        "  num_filters = 2048\n",
        "\n",
        "  for _ in range(num_extra_layers):\n",
        "    current_layer_output = residual_layer(previous_layer_output,num_filters=num_filters,activation=\"elu\",padding=\"valid\",stride=2)\n",
        "    resnet_outputs.append(current_layer_output)\n",
        "    previous_layer_output = current_layer_output\n",
        "    num_filters = num_filters * 2\n",
        "\n",
        "  prebuilt_resnet = Model(inputs=input_image,outputs=resnet_outputs)\n",
        "\n",
        "  return prebuilt_resnet"
      ],
      "execution_count": 7,
      "outputs": []
    },
    {
      "cell_type": "code",
      "metadata": {
        "id": "tlgRTkMx-jte"
      },
      "source": [
        "def create_resnet(input_shape,is_prebuilt,is_pretrained=False,num_extra_layers=2):\n",
        "\n",
        "  \"\"\"This function creates a resnet based on the user preferences.\n",
        "\n",
        "  Parameters:\n",
        "              input_shape (tuple) : Shape of the input which is to be fed into the user created Resnet\n",
        "              num_extra_layers (int) : Number of extra layers based on user preference depending upon at how many different scales a user wants to build a \n",
        "                                       residual network to perform detection\n",
        "              is_prebuilt (bool) : Whether user wants to select a prebuilt version of a resnet\n",
        "              is_pretrained (bool) : Whether user wants to select a pretrained version of a prebuilt resnet\n",
        "\n",
        "  Returning:\n",
        "              A resnet model based function API and based on user preferences. \n",
        "  \"\"\"\n",
        "\n",
        "  if is_prebuilt == True:\n",
        "    user_resnet = prebuilt_resnet_convolutional_base(input_shape=input_shape,include_pretrained_weights=is_pretrained)\n",
        "  else:\n",
        "    user_resnet = custom_resnet_convolutional_base(input_shape=input_shape)\n",
        "\n",
        "  return user_resnet"
      ],
      "execution_count": 8,
      "outputs": []
    }
  ]
}