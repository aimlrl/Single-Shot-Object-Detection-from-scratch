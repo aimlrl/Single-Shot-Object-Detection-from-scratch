{
  "nbformat": 4,
  "nbformat_minor": 0,
  "metadata": {
    "colab": {
      "name": "loss_funcs.ipynb",
      "provenance": [],
      "collapsed_sections": []
    },
    "kernelspec": {
      "name": "python3",
      "display_name": "Python 3"
    },
    "language_info": {
      "name": "python"
    }
  },
  "cells": [
    {
      "cell_type": "code",
      "metadata": {
        "id": "qbXqiQuhMYoY"
      },
      "source": [
        "import tensorflow as tf\n",
        "from tensorflow.keras import backend as K\n",
        "from tensorflow.keras.losses import Huber\n",
        "import numpy as np"
      ],
      "execution_count": null,
      "outputs": []
    },
    {
      "cell_type": "code",
      "metadata": {
        "id": "9ytNj-8VTTu6"
      },
      "source": [
        "def categorical_focal_loss(c,posterior_probabilities):\n",
        "\n",
        "  \"\"\"This function implements custom focal loss on standard categorical cross entropy loss\"\"\"\n",
        "\n",
        "  gamma = 2.0\n",
        "  alpha = 0.25\n",
        "\n",
        "  categorical_cross_entropy = -c * K.log(posterior_probabilities)\n",
        "  focal_loss_scaling = alpha * K.pow((1-posterior_probabilities),gamma)\n",
        "\n",
        "  scaled_cross_entropy = focal_loss_scaling * categorical_cross_entropy\n",
        "\n",
        "  focal_loss_cross_entropy = K.sum(scaled_cross_entropy,axis=-1)\n",
        "\n",
        "  return focal_loss_cross_entropy"
      ],
      "execution_count": null,
      "outputs": []
    },
    {
      "cell_type": "code",
      "metadata": {
        "id": "lFpQLai4VOlc"
      },
      "source": [
        "def l1_loss(y_gt,y_hat):\n",
        "\n",
        "  \"\"\"This function implements L1 Loss which is also called Mean Absolute Error Loss\"\"\"\n",
        "\n",
        "  return K.mean(K.abs(y_hat - y_gt),axis=-1)"
      ],
      "execution_count": null,
      "outputs": []
    },
    {
      "cell_type": "code",
      "metadata": {
        "id": "2l6nQHvXWWGS"
      },
      "source": [
        "def smooth_l1_loss(y_gt,y_hat):\n",
        "\n",
        "  \"\"\"This function implements the smoothen out version of L1 loss so that it becomes differentiable\"\"\"\n",
        "\n",
        "  return Huber()(y_gt,y_hat)"
      ],
      "execution_count": null,
      "outputs": []
    },
    {
      "cell_type": "code",
      "metadata": {
        "id": "XWg4i-qeWwMf"
      },
      "source": [
        ""
      ],
      "execution_count": null,
      "outputs": []
    }
  ]
}