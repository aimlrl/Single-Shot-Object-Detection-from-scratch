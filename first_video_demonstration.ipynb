{
 "cells": [
  {
   "cell_type": "code",
   "execution_count": 1,
   "id": "3b9a644f",
   "metadata": {},
   "outputs": [],
   "source": [
    "import numpy as np\n",
    "import cv2\n",
    "import argparse\n",
    "import datetime\n",
    "import skimage\n",
    "from skimage.io import imread"
   ]
  },
  {
   "cell_type": "code",
   "execution_count": 2,
   "id": "f0b07e3d",
   "metadata": {},
   "outputs": [
    {
     "name": "stderr",
     "output_type": "stream",
     "text": [
      "usage: ipykernel_launcher.py [-h] [--camera_idx CAMERA_IDX] [--record_or_not] [--saving_file SAVING_FILE]\n",
      "ipykernel_launcher.py: error: unrecognized arguments: -f C:\\Users\\aimlrl-amd ryzen\\AppData\\Roaming\\jupyter\\runtime\\kernel-55b8a52b-1079-4bb6-a534-95dd55b79950.json\n"
     ]
    },
    {
     "ename": "SystemExit",
     "evalue": "2",
     "output_type": "error",
     "traceback": [
      "An exception has occurred, use %tb to see the full traceback.\n",
      "\u001b[1;31mSystemExit\u001b[0m\u001b[1;31m:\u001b[0m 2\n"
     ]
    },
    {
     "name": "stderr",
     "output_type": "stream",
     "text": [
      "C:\\Users\\Public\\anaconda3\\envs\\keras_env\\lib\\site-packages\\IPython\\core\\interactiveshell.py:3445: UserWarning: To exit: use 'exit', 'quit', or Ctrl-D.\n",
      "  warn(\"To exit: use 'exit', 'quit', or Ctrl-D.\", stacklevel=1)\n"
     ]
    }
   ],
   "source": [
    "class  video_capture_demo():\n",
    "    \n",
    "    def __init__(self,camera_index=0,width=500,height=375,is_record=False,file_to_save=\"demo.mp4\"):\n",
    "        self.camera_idx = camera\n",
    "        self.video_width = width\n",
    "        self.video_height = height\n",
    "        self.record_or_not = is_record\n",
    "        self.saving_file = file_to_save\n",
    "        self.videowriter = None\n",
    "        self.initialize_video_capture()\n",
    "        \n",
    "\n",
    "    def initialize_video_capture(self):\n",
    "        self.video_capture = cv2.VideoCapture(self.camera_idx)\n",
    "        \n",
    "        if not self.video_capture.isOpened():\n",
    "            print(\"Error opening video camera\")\n",
    "            return\n",
    "\n",
    "        self.video_capture.set(cv2.CAP_PROP_FRAME_WIDTH, self.width)\n",
    "        self.video_capture.set(cv2.CAP_PROP_FRAME_HEIGHT, self.height)\n",
    "\n",
    "        if self.record_or_not == True:\n",
    "            self.videowriter = cv2.VideoWriter(self.saving_file,cv2.VideoWriter_fourcc('m', 'p', '4', 'v'),\n",
    "                                                10,(self.width, self.height),isColor=True)\n",
    "\n",
    "            \n",
    "    def loop(self):\n",
    "        font = cv2.FONT_HERSHEY_DUPLEX\n",
    "        pos = (10,30)\n",
    "        font_scale = 0.9\n",
    "        font_color = (0, 0, 0)\n",
    "        line_type = 1\n",
    "\n",
    "        while True:\n",
    "            \n",
    "            start_time = datetime.datetime.now()\n",
    "            ret, image = self.video_capture.read()\n",
    "            cv2.imshow('image', image)\n",
    "            \n",
    "            if self.videowriter is not None:\n",
    "                if self.videowriter.isOpened():\n",
    "                    self.videowriter.write(image)\n",
    "                    \n",
    "            if cv2.waitKey(1) & 0xFF == ord('q'):\n",
    "                break\n",
    "\n",
    "        self.video_capture.release()\n",
    "        cv2.destroyAllWindows()\n",
    "\n",
    "\n",
    "if __name__ == '__main__':\n",
    "    parser = argparse.ArgumentParser(description='Demonstration of working of object detection on a video captures by camera')\n",
    "    \n",
    "    desc = \"Camera index\"\n",
    "    parser.add_argument(\"--camera_idx\",default=0,type=int,help=desc)\n",
    "    \n",
    "    desc = \"Whether to record video or not\"\n",
    "    parser.add_argument(\"--record_or_not\",default=False,action='store_true',help=desc)\n",
    "    \n",
    "    desc = \"File name to capture the video\"\n",
    "    parser.add_argument(\"--saving_file\",default=\"demo.mp4\",help=desc)\n",
    "\n",
    "    args = parser.parse_args()\n",
    "\n",
    "    videodemo = video_capture_demo(camera_index=args.camera_idx,is_record=args.record_or_not,\n",
    "                                  file_to_save=args.saving_file)\n",
    "    videodemo.loop()"
   ]
  },
  {
   "cell_type": "code",
   "execution_count": null,
   "id": "4d1e0eca",
   "metadata": {},
   "outputs": [],
   "source": []
  }
 ],
 "metadata": {
  "kernelspec": {
   "display_name": "Python 3",
   "language": "python",
   "name": "python3"
  },
  "language_info": {
   "codemirror_mode": {
    "name": "ipython",
    "version": 3
   },
   "file_extension": ".py",
   "mimetype": "text/x-python",
   "name": "python",
   "nbconvert_exporter": "python",
   "pygments_lexer": "ipython3",
   "version": "3.8.10"
  }
 },
 "nbformat": 4,
 "nbformat_minor": 5
}
