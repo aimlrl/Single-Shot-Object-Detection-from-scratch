{
 "cells": [
  {
   "cell_type": "code",
   "execution_count": 7,
   "metadata": {
    "id": "zIKOGuFP85AK"
   },
   "outputs": [],
   "source": [
    "from keras.layers import Activation,Dense,Input\n",
    "from keras.layers import Conv2D,Flatten\n",
    "from keras.layers import BatchNormalization\n",
    "from keras.layers import Reshape,Concatenate\n",
    "from keras.models import Model\n",
    "from keras import backend as K\n",
    "import numpy as np\n",
    "from convolutional_base_options import create_resnet\n",
    "from keras.layers import MaxPooling2D"
   ]
  },
  {
   "cell_type": "code",
   "execution_count": 8,
   "metadata": {
    "id": "VaphT7IuEEK_"
   },
   "outputs": [],
   "source": [
    "def ith_scale_output_layer(num_filters,ksize,stride,padding):\n",
    "\n",
    "  \"\"\"This function creates an output layer for the different scales at which the detection needs to be performed.\n",
    "\n",
    "  Parameters:\n",
    "              num_filters (int) : Number of filters to be used in a convolutional layer\n",
    "\n",
    "  Returning:\n",
    "              a model layer\n",
    "  \"\"\"\n",
    "\n",
    "  conv_layer = Conv2D(filters=num_filters,kernel_size=ksize,padding=padding)\n",
    "\n",
    "  return conv_layer"
   ]
  },
  {
   "cell_type": "code",
   "execution_count": 9,
   "metadata": {
    "id": "VwD-AN4M9_rX"
   },
   "outputs": [],
   "source": [
    "def build_ssd(input_shape,convolutional_base,num_extra_layers,num_classes,aspect_ratios=[1,2,0.5]):\n",
    "\n",
    "  \"\"\"This function builds the complete Neural Network architecture for Single Shot Detection (SSD) on the top of convolutional base. \n",
    "\n",
    "  Parameters:\n",
    "              input_shape (tuple) : Shape of the input image to be fed into the Neural Network of SSD\n",
    "              convolutional_base : Keras model based on functional API\n",
    "              num_extra_layers (int) : Number of extra layers added in the convolutional base for multiscale object detection\n",
    "              num_classes (int) : Number of classes in the training data\n",
    "              aspect_ratios (int) : Number of aspect ratios required for every anchor box\n",
    "\n",
    "  Returning:\n",
    "              num_anchor_boxes_per_fmap_pt (int) : Number of anchor boxes per feature map point\n",
    "              ssd_cnn_model : Keras model of complete Neural Network architecture for Single Shot Detection (SSD)\n",
    "  \"\"\"\n",
    "\n",
    "  num_anchor_boxes_per_fmap_pt = len(aspect_ratios) + 1\n",
    "  input_images = Input(shape=input_shape)\n",
    "  conv_base_outputs = convolutional_base(input_images)\n",
    "  num_outputs = num_extra_layers + 1\n",
    "\n",
    "  ssd_cnn_cls_outputs = []\n",
    "  ssd_cnn_offset_outputs = []\n",
    "  prebuilt_output_layer_configs = [(1,1,\"valid\"),(3,1,\"valid\"),(1,1,\"same\")]\n",
    "  custom_output_layer_configs = [(5,1,\"valid\"),(3,1,\"valid\"),(1,1,\"same\")]\n",
    "\n",
    "  for i in range(num_outputs):\n",
    "    ith_scale_output_fmap = conv_base_outputs[i]\n",
    "\n",
    "    if convolutional_base.name == \"Prebuilt\":\n",
    "      ksize,stride,padding = prebuilt_output_layer_configs[i]\n",
    "    else:\n",
    "      ksize,stride,padding = custom_output_layer_configs[i]\n",
    "\n",
    "    if convolutional_base.name == \"Prebuilt\" and i == 0:\n",
    "      ith_scale_class_pred = ith_scale_output_layer(num_filters=num_anchor_boxes_per_fmap_pt*num_classes,ksize=ksize,stride=stride,padding=padding)(ith_scale_output_fmap)\n",
    "      ith_scale_class_pred = MaxPooling2D()(ith_scale_class_pred)\n",
    "      ith_scale_offset_pred = ith_scale_output_layer(num_filters=4*num_anchor_boxes_per_fmap_pt,ksize=ksize,stride=stride,padding=padding)(ith_scale_output_fmap)\n",
    "      ith_scale_offset_pred = MaxPooling2D()(ith_scale_offset_pred)\n",
    "    else:\n",
    "      ith_scale_class_pred = ith_scale_output_layer(num_filters=num_anchor_boxes_per_fmap_pt*num_classes,ksize=ksize,stride=stride,padding=padding)(ith_scale_output_fmap)\n",
    "      ith_scale_offset_pred = ith_scale_output_layer(num_filters=4*num_anchor_boxes_per_fmap_pt,ksize=ksize,stride=stride,padding=padding)(ith_scale_output_fmap)\n",
    "                                                                                                       \n",
    "    ith_scale_class_pred = Reshape((-1,num_classes))(ith_scale_class_pred)\n",
    "    ith_scale_offset_pred = Reshape((-1,4))(ith_scale_offset_pred)\n",
    "\n",
    "    ssd_cnn_offset_outputs.append(ith_scale_offset_pred)\n",
    "    ith_scale_class_pred = Activation(\"softmax\")(ith_scale_class_pred)\n",
    "    ssd_cnn_cls_outputs.append(ith_scale_class_pred)\n",
    "\n",
    "  ssd_cnn_cls_outputs = Concatenate(axis=1)(ssd_cnn_cls_outputs)\n",
    "  ssd_cnn_offset_outputs = Concatenate(axis=1)(ssd_cnn_offset_outputs)\n",
    "\n",
    "  all_ssd_cnn_outputs = [ssd_cnn_cls_outputs,ssd_cnn_offset_outputs]\n",
    "\n",
    "  ssd_cnn_model = Model(inputs=input_images,outputs=all_ssd_cnn_outputs)\n",
    "\n",
    "  return num_anchor_boxes_per_fmap_pt,ssd_cnn_model"
   ]
  },
  {
   "cell_type": "code",
   "execution_count": null,
   "metadata": {
    "id": "lgUYDdqV8Qsr"
   },
   "outputs": [],
   "source": []
  }
 ],
 "metadata": {
  "colab": {
   "collapsed_sections": [],
   "name": "ssd_cnn.ipynb",
   "provenance": []
  },
  "kernelspec": {
   "display_name": "Python 3",
   "language": "python",
   "name": "python3"
  },
  "language_info": {
   "codemirror_mode": {
    "name": "ipython",
    "version": 3
   },
   "file_extension": ".py",
   "mimetype": "text/x-python",
   "name": "python",
   "nbconvert_exporter": "python",
   "pygments_lexer": "ipython3",
   "version": "3.8.10"
  }
 },
 "nbformat": 4,
 "nbformat_minor": 1
}
