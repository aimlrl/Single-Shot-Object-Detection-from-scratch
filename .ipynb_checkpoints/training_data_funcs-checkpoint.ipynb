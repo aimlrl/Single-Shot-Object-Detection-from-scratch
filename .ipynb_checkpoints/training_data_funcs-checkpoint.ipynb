{
 "cells": [
  {
   "cell_type": "code",
   "execution_count": 1,
   "metadata": {},
   "outputs": [],
   "source": [
    "import numpy as np\n",
    "import csv\n",
    "import matplotlib.pyplot as plt\n",
    "from random import randint\n",
    "import object_detection_config\n",
    "from matplotlib.patches import Rectangle"
   ]
  },
  {
   "cell_type": "code",
   "execution_count": 2,
   "metadata": {},
   "outputs": [],
   "source": [
    "def training_data_validation_conversion(file_path):\n",
    "    \n",
    "    \"\"\"This function reads a csv file of Training Data. In the case of object detection, the training data\n",
    "    will consist of training examples where each training example (row of a csv file) will consist of the\n",
    "    following entities:\n",
    "    \n",
    "    First, Feature Vector (Image Pixels or File name of the image, in our case it's file name of the image)\n",
    "    \n",
    "    Second, Ground truth bounding box coordinates of the object present in the image\n",
    "    \n",
    "    Last, Class label of the correponding object present in the image\n",
    "    \n",
    "    Parameters:\n",
    "                file_path (string) : File path of CSV file of Training Data\n",
    "                \n",
    "    Returning:\n",
    "                training_data_dict (dict) : A dictionary of the training data where each key value pair\n",
    "                                            in the dictionary will consist of key as File name of the image\n",
    "                                            and the value will consist of list of bounding box coordinates\n",
    "                                            of all ground truth bounding boxes as well as class labels of \n",
    "                                            all the objects present in the image.\n",
    "    \"\"\"\n",
    "                                            \n",
    "    training_data = list()\n",
    "    \n",
    "    with open(file_path) as file_handle:\n",
    "        \n",
    "        training_examples = csv.reader(file_handle)\n",
    "        \n",
    "        for example in training_examples:\n",
    "            training_data.append(example)\n",
    "            \n",
    "    training_data = np.array(training_data)[1:]\n",
    "    file_names = training_data[:,0]\n",
    "    training_data_dict = dict()\n",
    "    unique_file_names = np.unique(file_names)\n",
    "    total_unique_classes = np.unique(training_data[:,-1]).astype(int).tolist()\n",
    "    \n",
    "    for image_file in unique_file_names:\n",
    "        training_data_dict[image_file] = list()\n",
    "        \n",
    "    invalid_example = False\n",
    "    \n",
    "    for training_example in training_data:\n",
    "        gt_info = training_example[1:]\n",
    "        \n",
    "        if len(training_example) != 6:\n",
    "            invalid_example = True\n",
    "            print(\"In image file name\",training_example[0],\"there is incomplete ground truth information\")\n",
    "            \n",
    "        elif gt_info[0] == gt_info[1] or gt_info[2] == gt_info[3]:\n",
    "            invalid_example = True\n",
    "            print(\"In image file name\",training_example[0],\"Zero width or Height ground truth bounding box is found\")\n",
    "            \n",
    "        elif gt_info[-1] == 0:\n",
    "            invalid_example = True\n",
    "            print(\"In image file name\",training_example[0],\"no background category is found\")\n",
    "            \n",
    "        if invalid_example == False:\n",
    "            gt_info = gt_info.astype(np.float32)\n",
    "            training_data_dict[training_example[0]].append(gt_info)\n",
    "            \n",
    "        invalid_example = False\n",
    "        \n",
    "    for training_example in training_data:\n",
    "        if len(training_data_dict[training_example[0]]) == 0:\n",
    "            del training_data_dict[training_example[0]]\n",
    "            \n",
    "    return training_data_dict,total_unique_classes"
   ]
  },
  {
   "cell_type": "code",
   "execution_count": 3,
   "metadata": {},
   "outputs": [],
   "source": [
    "def determine_anchor_box_color(index=None):\n",
    "    \"\"\"This function determines the color of the bounding box for a specific category object.\n",
    "    \n",
    "    Parameters:\n",
    "                index : Index of the object category\n",
    "    Returning:\n",
    "                color_character : Matplotlib compatible color character for a specific object category index\n",
    "    \"\"\"\n",
    "    colors = ['w','r','b','g','c','m','y','g','c','m','k']\n",
    "    \n",
    "    if index is None:\n",
    "        return colors[randint(0,len(colors)-1)]\n",
    "    return colors[index % len(colors)]"
   ]
  },
  {
   "cell_type": "code",
   "execution_count": 4,
   "metadata": {},
   "outputs": [],
   "source": [
    "def show_colored_pred_bboxes(frame, pred_info, ax=None):\n",
    "    \"\"\"This function draws a bounding box of a specific color based on the predicted category of an object \n",
    "    given it's predicted box coords.\n",
    "    \"\"\"\n",
    "    \n",
    "    if ax is None:\n",
    "        fig, ax = plt.subplots(1)\n",
    "        ax.imshow(frame)\n",
    "        \n",
    "    for pred_off_cls in pred_info:\n",
    "        w = pred_off_cls[1] - pred_off_cls[0]\n",
    "        h = pred_off_cls[3] - pred_off_cls[2]\n",
    "        x = pred_off_cls[0]\n",
    "        y = pred_off_cls[2]\n",
    "        pred_object_index = int(pred_off_cls[4])\n",
    "        color = determine_anchor_box_color(pred_object_index)\n",
    "        rect_to_draw = Rectangle((x, y),w,h,linewidth=2,edgecolor=color,facecolor='none')\n",
    "        ax.add_patch(rect_to_draw)\n",
    "    plt.show()"
   ]
  },
  {
   "cell_type": "code",
   "execution_count": 5,
   "metadata": {},
   "outputs": [],
   "source": [
    "def index2class(index=0):\n",
    "    \"\"\"Convert index (int) to class name (string)\"\"\"\n",
    "    classes = object_detection_config.params['classes']\n",
    "    return classes[index]"
   ]
  },
  {
   "cell_type": "code",
   "execution_count": 6,
   "metadata": {},
   "outputs": [],
   "source": [
    "def class2index(category=\"Background\"):\n",
    "    \"\"\"Convert class name (string) to index (int)\"\"\"\n",
    "    classes = object_detection_config.params['classes']\n",
    "    return classes.index(category)"
   ]
  }
 ],
 "metadata": {
  "kernelspec": {
   "display_name": "Python 3",
   "language": "python",
   "name": "python3"
  },
  "language_info": {
   "codemirror_mode": {
    "name": "ipython",
    "version": 3
   },
   "file_extension": ".py",
   "mimetype": "text/x-python",
   "name": "python",
   "nbconvert_exporter": "python",
   "pygments_lexer": "ipython3",
   "version": "3.8.10"
  }
 },
 "nbformat": 4,
 "nbformat_minor": 4
}
