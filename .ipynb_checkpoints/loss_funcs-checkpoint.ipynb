{
 "cells": [
  {
   "cell_type": "code",
   "execution_count": 7,
   "metadata": {
    "id": "qbXqiQuhMYoY"
   },
   "outputs": [],
   "source": [
    "import tensorflow as tf\n",
    "from tensorflow.keras import backend as K\n",
    "from tensorflow.keras.losses import Huber\n",
    "import numpy as np"
   ]
  },
  {
   "cell_type": "code",
   "execution_count": 43,
   "metadata": {
    "id": "9ytNj-8VTTu6"
   },
   "outputs": [],
   "source": [
    "def categorical_focal_loss(c,posterior_probabilities):\n",
    "\n",
    "    \"\"\"This function implements custom focal loss on standard categorical cross entropy loss\"\"\"\n",
    "\n",
    "    gamma = 2.0\n",
    "    alpha = 0.25\n",
    "\n",
    "    categorical_cross_entropy = -c * K.log(posterior_probabilities)\n",
    "    focal_loss_scaling = alpha * K.pow((1-posterior_probabilities),gamma)\n",
    "\n",
    "    scaled_cross_entropy = focal_loss_scaling * categorical_cross_entropy\n",
    "\n",
    "    focal_loss_cross_entropy = K.mean(K.sum(K.sum(scaled_cross_entropy,axis=-1),axis=1))\n",
    "\n",
    "    return focal_loss_cross_entropy"
   ]
  },
  {
   "cell_type": "code",
   "execution_count": 44,
   "metadata": {},
   "outputs": [],
   "source": [
    "def positive_anchor_boxes_offset(y_gt,y_hat):\n",
    "    \n",
    "    \"\"\"This function preprocesses offsets of ground truth bounding boxes as well as predicted offsets\"\"\"\n",
    "    \n",
    "    gt_offsets = y_gt[...,0:4]\n",
    "    positive_anchor_boxes_indicator = y_gt[...,4:8]\n",
    "    \n",
    "    predicted_offsets = y_hat[...,0:4]\n",
    "    \n",
    "    gt_offsets = gt_offsets * positive_anchor_boxes_indicator\n",
    "    predicted_offsets = predicted_offsets * positive_anchor_boxes_indicator\n",
    "    \n",
    "    return gt_offsets,predicted_offsets"
   ]
  },
  {
   "cell_type": "code",
   "execution_count": 80,
   "metadata": {
    "id": "lFpQLai4VOlc"
   },
   "outputs": [],
   "source": [
    "def l1_loss(y_gt,y_hat):\n",
    "    \n",
    "    \"\"\"This function implements L1 Loss which is also called Mean Absolute Error Loss\"\"\"\n",
    "    \n",
    "    gt_offsets,predicted_offsets = positive_anchor_boxes_offset(y_gt,y_hat)\n",
    "    \n",
    "    return K.mean(K.sum(K.sum(K.abs(predicted_offsets - gt_offsets),axis=-1),axis=1))"
   ]
  },
  {
   "cell_type": "code",
   "execution_count": 81,
   "metadata": {
    "id": "2l6nQHvXWWGS"
   },
   "outputs": [],
   "source": [
    "def smooth_l1_loss(y_gt,y_hat):\n",
    "    \n",
    "    \"\"\"This function implements the smoothen out version of L1 loss so that it becomes differentiable\"\"\"\n",
    "    \n",
    "    gt_offsets,predicted_offsets = positive_anchor_boxes_offset(y_gt,y_hat)\n",
    "    \n",
    "    return Huber()(gt_offsets,predicted_offsets)"
   ]
  }
 ],
 "metadata": {
  "colab": {
   "collapsed_sections": [],
   "name": "loss_funcs.ipynb",
   "provenance": []
  },
  "kernelspec": {
   "display_name": "Python 3",
   "language": "python",
   "name": "python3"
  },
  "language_info": {
   "codemirror_mode": {
    "name": "ipython",
    "version": 3
   },
   "file_extension": ".py",
   "mimetype": "text/x-python",
   "name": "python",
   "nbconvert_exporter": "python",
   "pygments_lexer": "ipython3",
   "version": "3.8.10"
  }
 },
 "nbformat": 4,
 "nbformat_minor": 1
}
